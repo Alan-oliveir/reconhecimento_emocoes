{
  "nbformat": 4,
  "nbformat_minor": 0,
  "metadata": {
    "colab": {
      "provenance": []
    },
    "kernelspec": {
      "name": "python3",
      "display_name": "Python 3"
    }
  },
  "cells": [
    {
      "cell_type": "markdown",
      "metadata": {
        "id": "2F-hvs7WrjLy"
      },
      "source": [
        "# Testando o modelo do Detector de Emoções com Múltiplas Faces"
      ]
    },
    {
      "cell_type": "markdown",
      "metadata": {
        "id": "zz8aXNC5tOyC"
      },
      "source": [
        "## Etapa 1 - Importando as bibliotecas"
      ]
    },
    {
      "cell_type": "code",
      "metadata": {
        "id": "Bx7mqEk_snHV"
      },
      "source": [
        "import cv2\n",
        "import numpy as np\n",
        "import pandas as pd\n",
        "from google.colab.patches import cv2_imshow\n",
        "import zipfile"
      ],
      "execution_count": null,
      "outputs": []
    },
    {
      "cell_type": "code",
      "metadata": {
        "id": "xlqATqJss_Wu"
      },
      "source": [
        "%tensorflow_version 2.x"
      ],
      "execution_count": null,
      "outputs": []
    },
    {
      "cell_type": "code",
      "metadata": {
        "id": "zyUs6DCXtOHA"
      },
      "source": [
        "import tensorflow\n",
        "from tensorflow.keras.models import load_model\n",
        "from tensorflow.keras.preprocessing.image import img_to_array\n",
        "tensorflow.__version__"
      ],
      "execution_count": null,
      "outputs": []
    },
    {
      "cell_type": "markdown",
      "metadata": {
        "id": "0ph2GPO8tXGg"
      },
      "source": [
        "## Etapa 2 - Conectando com o Drive e acessando os arquivos"
      ]
    },
    {
      "cell_type": "code",
      "metadata": {
        "id": "yS0NqXIOzRcf"
      },
      "source": [
        "from google.colab import drive\n",
        "drive.mount('/content/gdrive')"
      ],
      "execution_count": null,
      "outputs": []
    },
    {
      "cell_type": "code",
      "metadata": {
        "id": "NGJY3i8Bzvsm"
      },
      "source": [
        "path = \"/content/gdrive/My Drive/Material_curso.zip\"\n",
        "zip_object = zipfile.ZipFile(file = path, mode = \"r\")\n",
        "zip_object.extractall('./')\n",
        "zip_object.close"
      ],
      "execution_count": null,
      "outputs": []
    },
    {
      "cell_type": "code",
      "metadata": {
        "id": "V4LRao9X0T4e"
      },
      "source": [
        "imagem = cv2.imread('Material/testes/teste03.jpg')\n",
        "cv2_imshow(imagem)"
      ],
      "execution_count": null,
      "outputs": []
    },
    {
      "cell_type": "code",
      "metadata": {
        "id": "2hm0WkrG8Btu"
      },
      "source": [
        "imagem.shape"
      ],
      "execution_count": null,
      "outputs": []
    },
    {
      "cell_type": "markdown",
      "metadata": {
        "id": "NBfMPIqRvETM"
      },
      "source": [
        "## Testando o Detector"
      ]
    },
    {
      "cell_type": "markdown",
      "metadata": {
        "id": "SQxAjBLIyIIe"
      },
      "source": [
        "### Carregamento dos modelos"
      ]
    },
    {
      "cell_type": "code",
      "metadata": {
        "id": "N86gbyYh5pd4"
      },
      "source": [
        "cascade_faces = \"Material/haarcascade_frontalface_default.xml\"\n",
        "caminho_modelo = \"Material/modelo_01_expressoes.h5\"\n",
        "face_detection = cv2.CascadeClassifier(cascade_faces)\n",
        "classificador_emocoes = load_model(caminho_modelo, compile = False)\n",
        "expressoes = [\"Raiva\", \"Nojo\", \"Medo\", \"Feliz\", \"Triste\", \"Surpreso\", \"Neutro\"]"
      ],
      "execution_count": null,
      "outputs": []
    },
    {
      "cell_type": "markdown",
      "metadata": {
        "id": "iNBTnZnQyx60"
      },
      "source": [
        "### Detecção de faces"
      ]
    },
    {
      "cell_type": "code",
      "metadata": {
        "id": "RpjOfRqo7Ub4"
      },
      "source": [
        "faces = face_detection.detectMultiScale(imagem, scaleFactor = 1.2,\n",
        "                                        minNeighbors = 5, minSize = (20,20))"
      ],
      "execution_count": null,
      "outputs": []
    },
    {
      "cell_type": "code",
      "metadata": {
        "id": "RZUUatiU73qE"
      },
      "source": [
        "faces"
      ],
      "execution_count": null,
      "outputs": []
    },
    {
      "cell_type": "code",
      "metadata": {
        "id": "TCjeLsUP8a9Z"
      },
      "source": [
        "len(faces)"
      ],
      "execution_count": null,
      "outputs": []
    },
    {
      "cell_type": "code",
      "metadata": {
        "id": "XDVrjp2r8do7"
      },
      "source": [
        "faces.shape"
      ],
      "execution_count": null,
      "outputs": []
    },
    {
      "cell_type": "markdown",
      "metadata": {
        "id": "XeISYAw_07zB"
      },
      "source": [
        "### Processamento para cada rosto detectado"
      ]
    },
    {
      "cell_type": "code",
      "metadata": {
        "id": "ZSkIbmSq9FtF"
      },
      "source": [
        "cinza = cv2.cvtColor(imagem, cv2.COLOR_BGR2GRAY)\n",
        "cv2_imshow(cinza)"
      ],
      "execution_count": null,
      "outputs": []
    },
    {
      "cell_type": "code",
      "metadata": {
        "id": "GhypHZTe9e56",
        "outputId": "97da7edb-cafe-411e-c305-16498fe282fa",
        "colab": {
          "base_uri": "https://localhost:8080/",
          "height": 35
        }
      },
      "source": [
        "cinza.shape"
      ],
      "execution_count": null,
      "outputs": [
        {
          "output_type": "execute_result",
          "data": {
            "text/plain": [
              "(1173, 1173)"
            ]
          },
          "metadata": {
            "tags": []
          },
          "execution_count": 14
        }
      ]
    },
    {
      "cell_type": "markdown",
      "metadata": {
        "id": "Iq2hCp6gBGsU"
      },
      "source": [
        "Com o *for* são realizados as etapas para cada face detectada:\n",
        "* Extração do ROI (region of interest)\n",
        "* Redimensionamento\n",
        "* Normalização\n",
        "* Previsões e resultado"
      ]
    },
    {
      "cell_type": "code",
      "metadata": {
        "id": "2oCVhujF9kjD"
      },
      "source": [
        "original = imagem.copy()\n",
        "\n",
        "for (x, y, w, h) in faces:\n",
        "  # Extração do ROI (region of interest)\n",
        "  roi = cinza[y:y + h, x:x + w] # utilizamos as coordenadas (onde inicia a face) e a largura e altura para extrair a região de interesse\n",
        "\n",
        "  # Redimensiona imagem\n",
        "  roi = cv2.resize(roi, (48, 48))\n",
        "\n",
        "  cv2_imshow(roi)\n",
        "\n",
        "  # Normalização\n",
        "  roi = roi.astype(\"float\") / 255\n",
        "  roi = img_to_array(roi)\n",
        "  roi = np.expand_dims(roi, axis = 0)\n",
        "\n",
        "  # Previsões\n",
        "  preds = classificador_emocoes.predict(roi)[0]\n",
        "  print(preds)\n",
        "\n",
        "  # Emoção detectada\n",
        "  emotion_probability = np.max(preds)\n",
        "  print(emotion_probability)\n",
        "\n",
        "  print(preds.argmax())\n",
        "  label = expressoes[preds.argmax()]\n",
        "\n",
        "\n",
        "  # Mostra resultado na tela para o rosto\n",
        "  cv2.putText(original, label, (x, y - 10), cv2.FONT_HERSHEY_SIMPLEX, 0.65,\n",
        "            (0, 0, 255), 2, cv2.LINE_AA)\n",
        "  cv2.rectangle(original, (x, y), (x + w, y + h), (0, 0, 255), 2)\n",
        "\n"
      ],
      "execution_count": null,
      "outputs": []
    },
    {
      "cell_type": "markdown",
      "metadata": {
        "id": "f4AUsGub2vWD"
      },
      "source": [
        "### Exibe resultado final\n",
        "\n",
        "> Perceba que no resultado final algumas faces não foram detectadas pelo haarscascade. Para solucionar, você pode fazer ajustes nos parâmetros no método `detectMultiScale`\n",
        "\n",
        "> Na última imagem, o algoritmo detectou duas faces. Também poderiam ser feito ajustes nos parâmetros ou então utilizar o Dlib para a detecção de faces, que é uma biblioteca com resultados melhores"
      ]
    },
    {
      "cell_type": "code",
      "metadata": {
        "id": "j1n1HnNTCEGi"
      },
      "source": [
        "cv2_imshow(original)"
      ],
      "execution_count": null,
      "outputs": []
    }
  ]
}